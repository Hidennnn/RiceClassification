{
 "cells": [
  {
   "cell_type": "code",
   "execution_count": 1,
   "metadata": {
    "collapsed": true,
    "ExecuteTime": {
     "end_time": "2023-07-09T18:59:22.910895Z",
     "start_time": "2023-07-09T18:59:19.842780Z"
    },
    "pycharm": {
     "name": "#%%\n"
    }
   },
   "outputs": [],
   "source": [
    "import os\n",
    "import numpy as np\n",
    "from data_generator import DataGenerator"
   ]
  },
  {
   "cell_type": "code",
   "execution_count": 2,
   "outputs": [],
   "source": [
    "label_name = {}\n",
    "for index, folder in enumerate(os.listdir(f'data/train')):\n",
    "    label_name[folder] = index-1"
   ],
   "metadata": {
    "collapsed": false,
    "ExecuteTime": {
     "end_time": "2023-07-09T19:00:13.366123Z",
     "start_time": "2023-07-09T19:00:13.360199Z"
    },
    "pycharm": {
     "name": "#%%\n"
    }
   }
  },
  {
   "cell_type": "code",
   "execution_count": 3,
   "outputs": [],
   "source": [
    "train_paths = np.array([])\n",
    "train_labels = {}\n",
    "for folder in os.listdir('data/train'):\n",
    "    for file in os.listdir(f'data/train/{folder}'):\n",
    "        # required due to .DS_Store\n",
    "        if file[0] == '.':\n",
    "            continue\n",
    "        train_paths = np.append(train_paths, np.array([f'data/train/{folder}/{file}']))\n",
    "        train_labels[f'data/train/{folder}/{file}'] = label_name[folder]\n",
    "\n",
    "validate_paths = np.array([])\n",
    "validate_labels = {}\n",
    "for folder in os.listdir('data/validation'):\n",
    "    for file in os.listdir(f'data/validation/{folder}'):\n",
    "        if file[0] == '.':\n",
    "            continue\n",
    "        validate_paths = np.append(validate_paths, np.array([f'data/validation/{folder}/{file}']))\n",
    "        validate_labels[f'data/validation/{folder}/{file}'] = label_name[folder]"
   ],
   "metadata": {
    "collapsed": false,
    "ExecuteTime": {
     "end_time": "2023-07-09T19:00:38.687827Z",
     "start_time": "2023-07-09T19:00:14.153217Z"
    },
    "pycharm": {
     "name": "#%%\n"
    }
   }
  },
  {
   "cell_type": "code",
   "execution_count": 4,
   "outputs": [],
   "source": [
    "train_generator = DataGenerator(train_paths, train_labels, batch_size=128, n_channels=3)\n",
    "validate_generator = DataGenerator(validate_paths, validate_labels, batch_size=128, n_channels=3)"
   ],
   "metadata": {
    "collapsed": false,
    "ExecuteTime": {
     "end_time": "2023-07-09T19:15:44.834231Z",
     "start_time": "2023-07-09T19:15:44.830066Z"
    },
    "pycharm": {
     "name": "#%%\n"
    }
   }
  },
  {
   "cell_type": "code",
   "execution_count": 7,
   "outputs": [],
   "source": [
    "from tensorflow.keras import Sequential\n",
    "from tensorflow.keras.layers import Conv2D, Dense, GlobalMaxPooling2D\n",
    "\n",
    "model = Sequential([\n",
    "    Conv2D(filters=16, kernel_size=(3,3), input_shape=(250,250,3), activation='relu', padding='same'),\n",
    "    Conv2D(filters=16, kernel_size=(2,2), strides=(2,2), name='Max_pooling_1'),\n",
    "    Conv2D(filters=32, kernel_size=(3,3), activation='relu', padding='same'),\n",
    "    Conv2D(filters=32, kernel_size=(3,3), activation='relu', padding='same'),\n",
    "    Conv2D(filters=32, kernel_size=(2,2), strides=(2,2), name='Max_pooling_2'),\n",
    "    Conv2D(filters=64, kernel_size=(3,3), activation='relu', padding='same'),\n",
    "    Conv2D(filters=64, kernel_size=(3,3), activation='relu'),\n",
    "    Conv2D(filters=64, kernel_size=(3,3), activation='relu'),\n",
    "    GlobalMaxPooling2D(),\n",
    "    Dense(5, activation='softmax')\n",
    "])"
   ],
   "metadata": {
    "collapsed": false,
    "ExecuteTime": {
     "end_time": "2023-07-09T21:20:16.420839Z",
     "start_time": "2023-07-09T21:20:16.316054Z"
    },
    "pycharm": {
     "name": "#%%\n"
    }
   }
  },
  {
   "cell_type": "code",
   "execution_count": 8,
   "outputs": [],
   "source": [
    "model.compile(optimizer='Adam', loss='categorical_crossentropy', metrics='accuracy')"
   ],
   "metadata": {
    "collapsed": false,
    "ExecuteTime": {
     "end_time": "2023-07-09T21:20:17.223189Z",
     "start_time": "2023-07-09T21:20:17.214026Z"
    },
    "pycharm": {
     "name": "#%%\n"
    }
   }
  },
  {
   "cell_type": "code",
   "execution_count": null,
   "outputs": [],
   "source": [
    "os.makedirs('models')"
   ],
   "metadata": {
    "collapsed": false,
    "ExecuteTime": {
     "end_time": "2023-07-09T21:20:18.546907Z",
     "start_time": "2023-07-09T21:20:18.459965Z"
    },
    "pycharm": {
     "name": "#%%\n"
    }
   }
  },
  {
   "cell_type": "code",
   "execution_count": 6,
   "outputs": [],
   "source": [
    "from tensorflow.keras.callbacks import ModelCheckpoint, EarlyStopping\n",
    "callback = [ModelCheckpoint(f'models/2.h5', monitor='val_loss', verbose=1, save_best_only=True)]"
   ],
   "metadata": {
    "collapsed": false,
    "ExecuteTime": {
     "end_time": "2023-07-09T21:20:20.819019Z",
     "start_time": "2023-07-09T21:20:20.813483Z"
    },
    "pycharm": {
     "name": "#%%\n"
    }
   }
  },
  {
   "cell_type": "code",
   "execution_count": 5,
   "outputs": [],
   "source": [
    "from tensorflow.keras.models import load_model\n",
    "model = load_model('models/2.h5')"
   ],
   "metadata": {
    "collapsed": false,
    "pycharm": {
     "name": "#%%\n"
    }
   }
  },
  {
   "cell_type": "code",
   "execution_count": 37,
   "outputs": [
    {
     "name": "stdout",
     "output_type": "stream",
     "text": [
      "Model: \"sequential_6\"\n",
      "_________________________________________________________________\n",
      " Layer (type)                Output Shape              Param #   \n",
      "=================================================================\n",
      " conv2d_47 (Conv2D)          (None, 250, 250, 16)      448       \n",
      "                                                                 \n",
      " Max_pooling_1 (Conv2D)      (None, 125, 125, 16)      1040      \n",
      "                                                                 \n",
      " conv2d_48 (Conv2D)          (None, 125, 125, 32)      4640      \n",
      "                                                                 \n",
      " conv2d_49 (Conv2D)          (None, 125, 125, 32)      9248      \n",
      "                                                                 \n",
      " Max_pooling_2 (Conv2D)      (None, 62, 62, 32)        4128      \n",
      "                                                                 \n",
      " conv2d_50 (Conv2D)          (None, 62, 62, 64)        18496     \n",
      "                                                                 \n",
      " conv2d_51 (Conv2D)          (None, 60, 60, 64)        36928     \n",
      "                                                                 \n",
      " conv2d_52 (Conv2D)          (None, 58, 58, 64)        36928     \n",
      "                                                                 \n",
      " global_max_pooling2d_6 (Glo  (None, 64)               0         \n",
      " balMaxPooling2D)                                                \n",
      "                                                                 \n",
      " dense_6 (Dense)             (None, 5)                 325       \n",
      "                                                                 \n",
      "=================================================================\n",
      "Total params: 112,181\n",
      "Trainable params: 112,181\n",
      "Non-trainable params: 0\n",
      "_________________________________________________________________\n"
     ]
    }
   ],
   "source": [
    "model.summary()"
   ],
   "metadata": {
    "collapsed": false,
    "pycharm": {
     "name": "#%%\n"
    }
   }
  },
  {
   "cell_type": "code",
   "execution_count": 7,
   "outputs": [
    {
     "name": "stdout",
     "output_type": "stream",
     "text": [
      "Epoch 1/45\n",
      "468/468 [==============================] - ETA: 0s - loss: 0.0103 - accuracy: 0.9966\n",
      "Epoch 1: val_loss improved from inf to 0.02348, saving model to models\\2.h5\n",
      "468/468 [==============================] - 133s 275ms/step - loss: 0.0103 - accuracy: 0.9966 - val_loss: 0.0235 - val_accuracy: 0.9931\n",
      "Epoch 2/45\n",
      "468/468 [==============================] - ETA: 0s - loss: 0.0066 - accuracy: 0.9979\n",
      "Epoch 2: val_loss improved from 0.02348 to 0.01579, saving model to models\\2.h5\n",
      "468/468 [==============================] - 130s 278ms/step - loss: 0.0066 - accuracy: 0.9979 - val_loss: 0.0158 - val_accuracy: 0.9962\n",
      "Epoch 3/45\n",
      "468/468 [==============================] - ETA: 0s - loss: 0.0131 - accuracy: 0.9957\n",
      "Epoch 3: val_loss did not improve from 0.01579\n",
      "468/468 [==============================] - 126s 270ms/step - loss: 0.0131 - accuracy: 0.9957 - val_loss: 0.0196 - val_accuracy: 0.9934\n",
      "Epoch 4/45\n",
      "468/468 [==============================] - ETA: 0s - loss: 0.0104 - accuracy: 0.9965\n",
      "Epoch 4: val_loss improved from 0.01579 to 0.01363, saving model to models\\2.h5\n",
      "468/468 [==============================] - 136s 291ms/step - loss: 0.0104 - accuracy: 0.9965 - val_loss: 0.0136 - val_accuracy: 0.9953\n",
      "Epoch 5/45\n",
      "468/468 [==============================] - ETA: 0s - loss: 0.0144 - accuracy: 0.9952\n",
      "Epoch 5: val_loss did not improve from 0.01363\n",
      "468/468 [==============================] - 139s 296ms/step - loss: 0.0144 - accuracy: 0.9952 - val_loss: 0.0324 - val_accuracy: 0.9911\n",
      "Epoch 6/45\n",
      "468/468 [==============================] - ETA: 0s - loss: 0.0082 - accuracy: 0.9970\n",
      "Epoch 6: val_loss did not improve from 0.01363\n",
      "468/468 [==============================] - 138s 294ms/step - loss: 0.0082 - accuracy: 0.9970 - val_loss: 0.0190 - val_accuracy: 0.9953\n",
      "Epoch 7/45\n",
      "468/468 [==============================] - ETA: 0s - loss: 0.0090 - accuracy: 0.9968\n",
      "Epoch 7: val_loss did not improve from 0.01363\n",
      "468/468 [==============================] - 140s 298ms/step - loss: 0.0090 - accuracy: 0.9968 - val_loss: 0.0304 - val_accuracy: 0.9915\n",
      "Epoch 8/45\n",
      "468/468 [==============================] - ETA: 0s - loss: 0.0115 - accuracy: 0.9962\n",
      "Epoch 8: val_loss did not improve from 0.01363\n",
      "468/468 [==============================] - 137s 293ms/step - loss: 0.0115 - accuracy: 0.9962 - val_loss: 0.0851 - val_accuracy: 0.9700\n",
      "Epoch 9/45\n",
      "468/468 [==============================] - ETA: 0s - loss: 0.0096 - accuracy: 0.9969\n",
      "Epoch 9: val_loss did not improve from 0.01363\n",
      "468/468 [==============================] - 140s 299ms/step - loss: 0.0096 - accuracy: 0.9969 - val_loss: 0.0138 - val_accuracy: 0.9957\n",
      "Epoch 10/45\n",
      "468/468 [==============================] - ETA: 0s - loss: 0.0045 - accuracy: 0.9985\n",
      "Epoch 10: val_loss did not improve from 0.01363\n",
      "468/468 [==============================] - 134s 286ms/step - loss: 0.0045 - accuracy: 0.9985 - val_loss: 0.0137 - val_accuracy: 0.9962\n",
      "Epoch 11/45\n",
      "468/468 [==============================] - ETA: 0s - loss: 0.0112 - accuracy: 0.9966\n",
      "Epoch 11: val_loss improved from 0.01363 to 0.01078, saving model to models\\2.h5\n",
      "468/468 [==============================] - 144s 308ms/step - loss: 0.0112 - accuracy: 0.9966 - val_loss: 0.0108 - val_accuracy: 0.9972\n",
      "Epoch 12/45\n",
      "468/468 [==============================] - ETA: 0s - loss: 0.0075 - accuracy: 0.9976\n",
      "Epoch 12: val_loss did not improve from 0.01078\n",
      "468/468 [==============================] - 145s 310ms/step - loss: 0.0075 - accuracy: 0.9976 - val_loss: 0.0125 - val_accuracy: 0.9964\n",
      "Epoch 13/45\n",
      "468/468 [==============================] - ETA: 0s - loss: 0.0112 - accuracy: 0.9963\n",
      "Epoch 13: val_loss did not improve from 0.01078\n",
      "468/468 [==============================] - 137s 292ms/step - loss: 0.0112 - accuracy: 0.9963 - val_loss: 0.0191 - val_accuracy: 0.9941\n",
      "Epoch 14/45\n",
      "468/468 [==============================] - ETA: 0s - loss: 0.0054 - accuracy: 0.9982\n",
      "Epoch 14: val_loss did not improve from 0.01078\n",
      "468/468 [==============================] - 138s 295ms/step - loss: 0.0054 - accuracy: 0.9982 - val_loss: 0.0218 - val_accuracy: 0.9946\n",
      "Epoch 15/45\n",
      "468/468 [==============================] - ETA: 0s - loss: 0.0153 - accuracy: 0.9951\n",
      "Epoch 15: val_loss did not improve from 0.01078\n",
      "468/468 [==============================] - 145s 310ms/step - loss: 0.0153 - accuracy: 0.9951 - val_loss: 0.0110 - val_accuracy: 0.9965\n",
      "Epoch 16/45\n",
      "468/468 [==============================] - ETA: 0s - loss: 0.0044 - accuracy: 0.9987\n",
      "Epoch 16: val_loss did not improve from 0.01078\n",
      "468/468 [==============================] - 150s 320ms/step - loss: 0.0044 - accuracy: 0.9987 - val_loss: 0.0121 - val_accuracy: 0.9972\n",
      "Epoch 17/45\n",
      "468/468 [==============================] - ETA: 0s - loss: 0.0032 - accuracy: 0.9989\n",
      "Epoch 17: val_loss did not improve from 0.01078\n",
      "468/468 [==============================] - 149s 318ms/step - loss: 0.0032 - accuracy: 0.9989 - val_loss: 0.0135 - val_accuracy: 0.9966\n",
      "Epoch 18/45\n",
      "468/468 [==============================] - ETA: 0s - loss: 0.0109 - accuracy: 0.9965\n",
      "Epoch 18: val_loss did not improve from 0.01078\n",
      "468/468 [==============================] - 142s 303ms/step - loss: 0.0109 - accuracy: 0.9965 - val_loss: 0.0169 - val_accuracy: 0.9947\n",
      "Epoch 19/45\n",
      "468/468 [==============================] - ETA: 0s - loss: 0.0089 - accuracy: 0.9973\n",
      "Epoch 19: val_loss did not improve from 0.01078\n",
      "468/468 [==============================] - 138s 294ms/step - loss: 0.0089 - accuracy: 0.9973 - val_loss: 0.0424 - val_accuracy: 0.9888\n",
      "Epoch 20/45\n",
      "468/468 [==============================] - ETA: 0s - loss: 0.0077 - accuracy: 0.9971\n",
      "Epoch 20: val_loss did not improve from 0.01078\n",
      "468/468 [==============================] - 136s 289ms/step - loss: 0.0077 - accuracy: 0.9971 - val_loss: 0.0117 - val_accuracy: 0.9968\n",
      "Epoch 21/45\n",
      "468/468 [==============================] - ETA: 0s - loss: 0.0059 - accuracy: 0.9981\n",
      "Epoch 21: val_loss did not improve from 0.01078\n",
      "468/468 [==============================] - 139s 297ms/step - loss: 0.0059 - accuracy: 0.9981 - val_loss: 0.0299 - val_accuracy: 0.9923\n",
      "Epoch 22/45\n",
      "468/468 [==============================] - ETA: 0s - loss: 0.0100 - accuracy: 0.9965\n",
      "Epoch 22: val_loss did not improve from 0.01078\n",
      "468/468 [==============================] - 140s 298ms/step - loss: 0.0100 - accuracy: 0.9965 - val_loss: 0.0346 - val_accuracy: 0.9918\n",
      "Epoch 23/45\n",
      "468/468 [==============================] - ETA: 0s - loss: 0.0040 - accuracy: 0.9988\n",
      "Epoch 23: val_loss improved from 0.01078 to 0.00966, saving model to models\\2.h5\n",
      "468/468 [==============================] - 129s 275ms/step - loss: 0.0040 - accuracy: 0.9988 - val_loss: 0.0097 - val_accuracy: 0.9960\n",
      "Epoch 24/45\n",
      "468/468 [==============================] - ETA: 0s - loss: 0.0045 - accuracy: 0.9985\n",
      "Epoch 24: val_loss did not improve from 0.00966\n",
      "468/468 [==============================] - 130s 277ms/step - loss: 0.0045 - accuracy: 0.9985 - val_loss: 0.0855 - val_accuracy: 0.9783\n",
      "Epoch 25/45\n",
      "468/468 [==============================] - ETA: 0s - loss: 0.0096 - accuracy: 0.9970\n",
      "Epoch 25: val_loss did not improve from 0.00966\n",
      "468/468 [==============================] - 134s 285ms/step - loss: 0.0096 - accuracy: 0.9970 - val_loss: 0.0388 - val_accuracy: 0.9891\n",
      "Epoch 26/45\n",
      "468/468 [==============================] - ETA: 0s - loss: 0.0068 - accuracy: 0.9979\n",
      "Epoch 26: val_loss did not improve from 0.00966\n",
      "468/468 [==============================] - 141s 300ms/step - loss: 0.0068 - accuracy: 0.9979 - val_loss: 0.0153 - val_accuracy: 0.9957\n",
      "Epoch 27/45\n",
      "468/468 [==============================] - ETA: 0s - loss: 0.0065 - accuracy: 0.9981\n",
      "Epoch 27: val_loss did not improve from 0.00966\n",
      "468/468 [==============================] - 148s 317ms/step - loss: 0.0065 - accuracy: 0.9981 - val_loss: 0.0420 - val_accuracy: 0.9871\n",
      "Epoch 28/45\n",
      "468/468 [==============================] - ETA: 0s - loss: 0.0068 - accuracy: 0.9977\n",
      "Epoch 28: val_loss did not improve from 0.00966\n",
      "468/468 [==============================] - 136s 290ms/step - loss: 0.0068 - accuracy: 0.9977 - val_loss: 0.0195 - val_accuracy: 0.9954\n",
      "Epoch 29/45\n",
      "468/468 [==============================] - ETA: 0s - loss: 0.0071 - accuracy: 0.9975\n",
      "Epoch 29: val_loss did not improve from 0.00966\n",
      "468/468 [==============================] - 135s 288ms/step - loss: 0.0071 - accuracy: 0.9975 - val_loss: 0.0181 - val_accuracy: 0.9969\n",
      "Epoch 30/45\n",
      "468/468 [==============================] - ETA: 0s - loss: 0.0067 - accuracy: 0.9979\n",
      "Epoch 30: val_loss did not improve from 0.00966\n",
      "468/468 [==============================] - 143s 305ms/step - loss: 0.0067 - accuracy: 0.9979 - val_loss: 0.0226 - val_accuracy: 0.9933\n",
      "Epoch 31/45\n",
      "468/468 [==============================] - ETA: 0s - loss: 0.0080 - accuracy: 0.9974\n",
      "Epoch 31: val_loss did not improve from 0.00966\n",
      "468/468 [==============================] - 134s 286ms/step - loss: 0.0080 - accuracy: 0.9974 - val_loss: 0.0304 - val_accuracy: 0.9933\n",
      "Epoch 32/45\n",
      "468/468 [==============================] - ETA: 0s - loss: 0.0054 - accuracy: 0.9984\n",
      "Epoch 32: val_loss did not improve from 0.00966\n",
      "468/468 [==============================] - 130s 277ms/step - loss: 0.0054 - accuracy: 0.9984 - val_loss: 0.0347 - val_accuracy: 0.9911\n",
      "Epoch 33/45\n",
      "468/468 [==============================] - ETA: 0s - loss: 0.0232 - accuracy: 0.9939\n",
      "Epoch 33: val_loss did not improve from 0.00966\n",
      "468/468 [==============================] - 136s 289ms/step - loss: 0.0232 - accuracy: 0.9939 - val_loss: 0.0147 - val_accuracy: 0.9956\n",
      "Epoch 34/45\n",
      "468/468 [==============================] - ETA: 0s - loss: 0.0022 - accuracy: 0.9992\n",
      "Epoch 34: val_loss did not improve from 0.00966\n",
      "468/468 [==============================] - 129s 274ms/step - loss: 0.0022 - accuracy: 0.9992 - val_loss: 0.0187 - val_accuracy: 0.9962\n",
      "Epoch 35/45\n",
      "468/468 [==============================] - ETA: 0s - loss: 0.0026 - accuracy: 0.9991\n",
      "Epoch 35: val_loss did not improve from 0.00966\n",
      "468/468 [==============================] - 130s 277ms/step - loss: 0.0026 - accuracy: 0.9991 - val_loss: 0.0354 - val_accuracy: 0.9915\n",
      "Epoch 36/45\n",
      "468/468 [==============================] - ETA: 0s - loss: 0.0030 - accuracy: 0.9989\n",
      "Epoch 36: val_loss did not improve from 0.00966\n",
      "468/468 [==============================] - 138s 294ms/step - loss: 0.0030 - accuracy: 0.9989 - val_loss: 0.0157 - val_accuracy: 0.9960\n",
      "Epoch 37/45\n",
      "468/468 [==============================] - ETA: 0s - loss: 0.0070 - accuracy: 0.9981\n",
      "Epoch 37: val_loss did not improve from 0.00966\n",
      "468/468 [==============================] - 136s 291ms/step - loss: 0.0070 - accuracy: 0.9981 - val_loss: 0.0834 - val_accuracy: 0.9770\n",
      "Epoch 38/45\n",
      "468/468 [==============================] - ETA: 0s - loss: 0.0056 - accuracy: 0.9982\n",
      "Epoch 38: val_loss did not improve from 0.00966\n",
      "468/468 [==============================] - 137s 293ms/step - loss: 0.0056 - accuracy: 0.9982 - val_loss: 0.0140 - val_accuracy: 0.9962\n",
      "Epoch 39/45\n",
      "468/468 [==============================] - ETA: 0s - loss: 0.0015 - accuracy: 0.9995\n",
      "Epoch 39: val_loss did not improve from 0.00966\n",
      "468/468 [==============================] - 140s 298ms/step - loss: 0.0015 - accuracy: 0.9995 - val_loss: 0.0119 - val_accuracy: 0.9973\n",
      "Epoch 40/45\n",
      "468/468 [==============================] - ETA: 0s - loss: 0.0063 - accuracy: 0.9978\n",
      "Epoch 40: val_loss did not improve from 0.00966\n",
      "468/468 [==============================] - 135s 288ms/step - loss: 0.0063 - accuracy: 0.9978 - val_loss: 0.0299 - val_accuracy: 0.9915\n",
      "Epoch 41/45\n",
      "468/468 [==============================] - ETA: 0s - loss: 0.0078 - accuracy: 0.9975\n",
      "Epoch 41: val_loss did not improve from 0.00966\n",
      "468/468 [==============================] - 134s 286ms/step - loss: 0.0078 - accuracy: 0.9975 - val_loss: 0.0123 - val_accuracy: 0.9965\n",
      "Epoch 42/45\n",
      "468/468 [==============================] - ETA: 0s - loss: 0.0065 - accuracy: 0.9980\n",
      "Epoch 42: val_loss did not improve from 0.00966\n",
      "468/468 [==============================] - 139s 297ms/step - loss: 0.0065 - accuracy: 0.9980 - val_loss: 0.0320 - val_accuracy: 0.9929\n",
      "Epoch 43/45\n",
      "468/468 [==============================] - ETA: 0s - loss: 0.0011 - accuracy: 0.9996\n",
      "Epoch 43: val_loss did not improve from 0.00966\n",
      "468/468 [==============================] - 130s 277ms/step - loss: 0.0011 - accuracy: 0.9996 - val_loss: 0.0125 - val_accuracy: 0.9968\n",
      "Epoch 44/45\n",
      "468/468 [==============================] - ETA: 0s - loss: 9.3955e-05 - accuracy: 1.0000\n",
      "Epoch 44: val_loss did not improve from 0.00966\n",
      "468/468 [==============================] - 127s 271ms/step - loss: 9.3955e-05 - accuracy: 1.0000 - val_loss: 0.0117 - val_accuracy: 0.9973\n",
      "Epoch 45/45\n",
      "468/468 [==============================] - ETA: 0s - loss: 3.7247e-05 - accuracy: 1.0000\n",
      "Epoch 45: val_loss did not improve from 0.00966\n",
      "468/468 [==============================] - 128s 273ms/step - loss: 3.7247e-05 - accuracy: 1.0000 - val_loss: 0.0108 - val_accuracy: 0.9970\n"
     ]
    },
    {
     "data": {
      "text/plain": "<keras.callbacks.History at 0x2f269eb8370>"
     },
     "execution_count": 7,
     "metadata": {},
     "output_type": "execute_result"
    }
   ],
   "source": [
    "model.fit(train_generator, epochs=45, batch_size=128, validation_data=validate_generator, callbacks=callback)"
   ],
   "metadata": {
    "collapsed": false,
    "is_executing": true,
    "ExecuteTime": {
     "start_time": "2023-07-09T21:20:21.678287Z"
    },
    "pycharm": {
     "name": "#%%\n"
    }
   }
  },
  {
   "cell_type": "code",
   "execution_count": 16,
   "outputs": [],
   "source": [
    "test_paths = np.array([])\n",
    "test_labels = {}\n",
    "for folder in os.listdir('data/test'):\n",
    "    for file in os.listdir(f'data/test/{folder}'):\n",
    "        if file[0] == '.':\n",
    "            continue\n",
    "        test_paths = np.append(test_paths, np.array([f'data/test/{folder}/{file}']))\n",
    "        test_labels[f'data/test/{folder}/{file}'] = label_name[folder]"
   ],
   "metadata": {
    "collapsed": false,
    "pycharm": {
     "name": "#%%\n"
    }
   }
  },
  {
   "cell_type": "code",
   "execution_count": 17,
   "outputs": [],
   "source": [
    "test_generator = DataGenerator(test_paths, test_labels, batch_size=128, n_channels=3)"
   ],
   "metadata": {
    "collapsed": false,
    "pycharm": {
     "name": "#%%\n"
    }
   }
  },
  {
   "cell_type": "code",
   "execution_count": 18,
   "outputs": [
    {
     "name": "stdout",
     "output_type": "stream",
     "text": [
      "58/58 [==============================] - 14s 236ms/step - loss: 0.0140 - accuracy: 0.9987\n"
     ]
    },
    {
     "data": {
      "text/plain": "[0.014046893455088139, 0.998652994632721]"
     },
     "execution_count": 18,
     "metadata": {},
     "output_type": "execute_result"
    }
   ],
   "source": [
    "model.evaluate(test_generator)"
   ],
   "metadata": {
    "collapsed": false,
    "pycharm": {
     "name": "#%%\n"
    }
   }
  },
  {
   "cell_type": "code",
   "execution_count": null,
   "outputs": [],
   "source": [
    "model.evaluate(test_generator)"
   ],
   "metadata": {
    "collapsed": false,
    "pycharm": {
     "name": "#%%\n"
    }
   }
  },
  {
   "cell_type": "markdown",
   "source": [
    "Test performance differences when MaxPooling is used."
   ],
   "metadata": {
    "collapsed": false,
    "pycharm": {
     "name": "#%% md\n"
    }
   }
  },
  {
   "cell_type": "code",
   "execution_count": 10,
   "outputs": [],
   "source": [
    "from tensorflow.keras import Sequential\n",
    "from tensorflow.keras.layers import Conv2D, MaxPooling2D, Dense, GlobalMaxPooling2D\n",
    "\n",
    "model = Sequential([\n",
    "    Conv2D(filters=16, kernel_size=(3,3), input_shape=(250,250,3), activation='relu', padding='same'),\n",
    "    MaxPooling2D(),\n",
    "    Conv2D(filters=32, kernel_size=(3,3), activation='relu', padding='same'),\n",
    "    Conv2D(filters=32, kernel_size=(3,3), activation='relu', padding='same'),\n",
    "    MaxPooling2D(),\n",
    "    Conv2D(filters=64, kernel_size=(3,3), activation='relu', padding='same'),\n",
    "    Conv2D(filters=64, kernel_size=(3,3), activation='relu'),\n",
    "    Conv2D(filters=64, kernel_size=(3,3), activation='relu'),\n",
    "    GlobalMaxPooling2D(),\n",
    "    Dense(5, activation='softmax')\n",
    "])"
   ],
   "metadata": {
    "collapsed": false,
    "pycharm": {
     "name": "#%%\n"
    }
   }
  },
  {
   "cell_type": "code",
   "execution_count": 11,
   "outputs": [],
   "source": [
    "model.compile(optimizer='Adam', loss='categorical_crossentropy', metrics='accuracy')"
   ],
   "metadata": {
    "collapsed": false,
    "pycharm": {
     "name": "#%%\n"
    }
   }
  },
  {
   "cell_type": "code",
   "execution_count": 12,
   "outputs": [],
   "source": [
    "from tensorflow.keras.callbacks import ModelCheckpoint, EarlyStopping\n",
    "callback = [ModelCheckpoint(f'models/2_max_pooling.h5', monitor='val_loss', verbose=1, save_best_only=True)]"
   ],
   "metadata": {
    "collapsed": false,
    "pycharm": {
     "name": "#%%\n"
    }
   }
  },
  {
   "cell_type": "code",
   "execution_count": 13,
   "outputs": [
    {
     "name": "stdout",
     "output_type": "stream",
     "text": [
      "Epoch 1/100\n",
      "468/468 [==============================] - ETA: 0s - loss: 0.5627 - accuracy: 0.7677\n",
      "Epoch 1: val_loss improved from inf to 0.08581, saving model to models\\2_max_pooling.h5\n",
      "468/468 [==============================] - 132s 272ms/step - loss: 0.5627 - accuracy: 0.7677 - val_loss: 0.0858 - val_accuracy: 0.9721\n",
      "Epoch 2/100\n",
      "468/468 [==============================] - ETA: 0s - loss: 0.1077 - accuracy: 0.9640\n",
      "Epoch 2: val_loss did not improve from 0.08581\n",
      "468/468 [==============================] - 129s 275ms/step - loss: 0.1077 - accuracy: 0.9640 - val_loss: 0.1145 - val_accuracy: 0.9609\n",
      "Epoch 3/100\n",
      "468/468 [==============================] - ETA: 0s - loss: 0.0601 - accuracy: 0.9803\n",
      "Epoch 3: val_loss improved from 0.08581 to 0.05191, saving model to models\\2_max_pooling.h5\n",
      "468/468 [==============================] - 128s 272ms/step - loss: 0.0601 - accuracy: 0.9803 - val_loss: 0.0519 - val_accuracy: 0.9824\n",
      "Epoch 4/100\n",
      "468/468 [==============================] - ETA: 0s - loss: 0.0615 - accuracy: 0.9797\n",
      "Epoch 4: val_loss improved from 0.05191 to 0.04504, saving model to models\\2_max_pooling.h5\n",
      "468/468 [==============================] - 129s 276ms/step - loss: 0.0615 - accuracy: 0.9797 - val_loss: 0.0450 - val_accuracy: 0.9864\n",
      "Epoch 5/100\n",
      "468/468 [==============================] - ETA: 0s - loss: 0.0807 - accuracy: 0.9762\n",
      "Epoch 5: val_loss improved from 0.04504 to 0.04017, saving model to models\\2_max_pooling.h5\n",
      "468/468 [==============================] - 129s 274ms/step - loss: 0.0807 - accuracy: 0.9762 - val_loss: 0.0402 - val_accuracy: 0.9865\n",
      "Epoch 6/100\n",
      "468/468 [==============================] - ETA: 0s - loss: 0.0418 - accuracy: 0.9863\n",
      "Epoch 6: val_loss improved from 0.04017 to 0.02830, saving model to models\\2_max_pooling.h5\n",
      "468/468 [==============================] - 135s 288ms/step - loss: 0.0418 - accuracy: 0.9863 - val_loss: 0.0283 - val_accuracy: 0.9925\n",
      "Epoch 7/100\n",
      "468/468 [==============================] - ETA: 0s - loss: 0.0324 - accuracy: 0.9893\n",
      "Epoch 7: val_loss did not improve from 0.02830\n",
      "468/468 [==============================] - 137s 292ms/step - loss: 0.0324 - accuracy: 0.9893 - val_loss: 0.0542 - val_accuracy: 0.9836\n",
      "Epoch 8/100\n",
      "468/468 [==============================] - ETA: 0s - loss: 0.0563 - accuracy: 0.9819\n",
      "Epoch 8: val_loss improved from 0.02830 to 0.02527, saving model to models\\2_max_pooling.h5\n",
      "468/468 [==============================] - 136s 290ms/step - loss: 0.0563 - accuracy: 0.9819 - val_loss: 0.0253 - val_accuracy: 0.9925\n",
      "Epoch 9/100\n",
      "468/468 [==============================] - ETA: 0s - loss: 0.0267 - accuracy: 0.9913\n",
      "Epoch 9: val_loss improved from 0.02527 to 0.02427, saving model to models\\2_max_pooling.h5\n",
      "468/468 [==============================] - 129s 275ms/step - loss: 0.0267 - accuracy: 0.9913 - val_loss: 0.0243 - val_accuracy: 0.9922\n",
      "Epoch 10/100\n",
      "468/468 [==============================] - ETA: 0s - loss: 0.0365 - accuracy: 0.9877\n",
      "Epoch 10: val_loss did not improve from 0.02427\n",
      "468/468 [==============================] - 127s 271ms/step - loss: 0.0365 - accuracy: 0.9877 - val_loss: 0.0340 - val_accuracy: 0.9892\n",
      "Epoch 11/100\n",
      "468/468 [==============================] - ETA: 0s - loss: 0.0280 - accuracy: 0.9907\n",
      "Epoch 11: val_loss improved from 0.02427 to 0.02048, saving model to models\\2_max_pooling.h5\n",
      "468/468 [==============================] - 127s 270ms/step - loss: 0.0280 - accuracy: 0.9907 - val_loss: 0.0205 - val_accuracy: 0.9929\n",
      "Epoch 12/100\n",
      "468/468 [==============================] - ETA: 0s - loss: 0.0353 - accuracy: 0.9892\n",
      "Epoch 12: val_loss did not improve from 0.02048\n",
      "468/468 [==============================] - 126s 268ms/step - loss: 0.0353 - accuracy: 0.9892 - val_loss: 0.0234 - val_accuracy: 0.9914\n",
      "Epoch 13/100\n",
      "468/468 [==============================] - ETA: 0s - loss: 0.0296 - accuracy: 0.9901\n",
      "Epoch 13: val_loss improved from 0.02048 to 0.01800, saving model to models\\2_max_pooling.h5\n",
      "468/468 [==============================] - 152s 324ms/step - loss: 0.0296 - accuracy: 0.9901 - val_loss: 0.0180 - val_accuracy: 0.9938\n",
      "Epoch 14/100\n",
      "468/468 [==============================] - ETA: 0s - loss: 0.0193 - accuracy: 0.9938\n",
      "Epoch 14: val_loss improved from 0.01800 to 0.01466, saving model to models\\2_max_pooling.h5\n",
      "468/468 [==============================] - 142s 303ms/step - loss: 0.0193 - accuracy: 0.9938 - val_loss: 0.0147 - val_accuracy: 0.9954\n",
      "Epoch 15/100\n",
      "468/468 [==============================] - ETA: 0s - loss: 0.0217 - accuracy: 0.9925\n",
      "Epoch 15: val_loss did not improve from 0.01466\n",
      "468/468 [==============================] - 147s 315ms/step - loss: 0.0217 - accuracy: 0.9925 - val_loss: 0.0246 - val_accuracy: 0.9922\n",
      "Epoch 16/100\n",
      "468/468 [==============================] - ETA: 0s - loss: 0.0197 - accuracy: 0.9937\n",
      "Epoch 16: val_loss did not improve from 0.01466\n",
      "468/468 [==============================] - 153s 326ms/step - loss: 0.0197 - accuracy: 0.9937 - val_loss: 0.0212 - val_accuracy: 0.9935\n",
      "Epoch 17/100\n",
      "468/468 [==============================] - ETA: 0s - loss: 0.0260 - accuracy: 0.9911\n",
      "Epoch 17: val_loss did not improve from 0.01466\n",
      "468/468 [==============================] - 196s 419ms/step - loss: 0.0260 - accuracy: 0.9911 - val_loss: 0.0179 - val_accuracy: 0.9939\n",
      "Epoch 18/100\n",
      "468/468 [==============================] - ETA: 0s - loss: 0.0431 - accuracy: 0.9879\n",
      "Epoch 18: val_loss did not improve from 0.01466\n",
      "468/468 [==============================] - 160s 342ms/step - loss: 0.0431 - accuracy: 0.9879 - val_loss: 0.0174 - val_accuracy: 0.9935\n",
      "Epoch 19/100\n",
      "468/468 [==============================] - ETA: 0s - loss: 0.0153 - accuracy: 0.9952\n",
      "Epoch 19: val_loss did not improve from 0.01466\n",
      "468/468 [==============================] - 149s 318ms/step - loss: 0.0153 - accuracy: 0.9952 - val_loss: 0.0160 - val_accuracy: 0.9957\n",
      "Epoch 20/100\n",
      "468/468 [==============================] - ETA: 0s - loss: 0.0185 - accuracy: 0.9937\n",
      "Epoch 20: val_loss did not improve from 0.01466\n",
      "468/468 [==============================] - 160s 342ms/step - loss: 0.0185 - accuracy: 0.9937 - val_loss: 0.0395 - val_accuracy: 0.9884\n",
      "Epoch 21/100\n",
      "468/468 [==============================] - ETA: 0s - loss: 0.0130 - accuracy: 0.9957\n",
      "Epoch 21: val_loss did not improve from 0.01466\n",
      "468/468 [==============================] - 151s 323ms/step - loss: 0.0130 - accuracy: 0.9957 - val_loss: 0.0213 - val_accuracy: 0.9950\n",
      "Epoch 22/100\n",
      "468/468 [==============================] - ETA: 0s - loss: 0.0158 - accuracy: 0.9947\n",
      "Epoch 22: val_loss did not improve from 0.01466\n",
      "468/468 [==============================] - 152s 325ms/step - loss: 0.0158 - accuracy: 0.9947 - val_loss: 0.0576 - val_accuracy: 0.9826\n",
      "Epoch 23/100\n",
      "468/468 [==============================] - ETA: 0s - loss: 0.0228 - accuracy: 0.9920\n",
      "Epoch 23: val_loss did not improve from 0.01466\n",
      "468/468 [==============================] - 151s 323ms/step - loss: 0.0228 - accuracy: 0.9920 - val_loss: 0.0352 - val_accuracy: 0.9895\n",
      "Epoch 24/100\n",
      "468/468 [==============================] - ETA: 0s - loss: 0.0148 - accuracy: 0.9951\n",
      "Epoch 24: val_loss did not improve from 0.01466\n",
      "468/468 [==============================] - 150s 321ms/step - loss: 0.0148 - accuracy: 0.9951 - val_loss: 0.0277 - val_accuracy: 0.9923\n",
      "Epoch 25/100\n",
      "468/468 [==============================] - ETA: 0s - loss: 0.0143 - accuracy: 0.9951\n",
      "Epoch 25: val_loss did not improve from 0.01466\n",
      "468/468 [==============================] - 153s 327ms/step - loss: 0.0143 - accuracy: 0.9951 - val_loss: 0.0178 - val_accuracy: 0.9949\n",
      "Epoch 26/100\n",
      "468/468 [==============================] - ETA: 0s - loss: 0.0146 - accuracy: 0.9953\n",
      "Epoch 26: val_loss did not improve from 0.01466\n",
      "468/468 [==============================] - 152s 324ms/step - loss: 0.0146 - accuracy: 0.9953 - val_loss: 0.0158 - val_accuracy: 0.9947\n",
      "Epoch 27/100\n",
      "468/468 [==============================] - ETA: 0s - loss: 0.0216 - accuracy: 0.9927\n",
      "Epoch 27: val_loss improved from 0.01466 to 0.01256, saving model to models\\2_max_pooling.h5\n",
      "468/468 [==============================] - 152s 324ms/step - loss: 0.0216 - accuracy: 0.9927 - val_loss: 0.0126 - val_accuracy: 0.9953\n",
      "Epoch 28/100\n",
      "468/468 [==============================] - ETA: 0s - loss: 0.0120 - accuracy: 0.9959\n",
      "Epoch 28: val_loss did not improve from 0.01256\n",
      "468/468 [==============================] - 152s 325ms/step - loss: 0.0120 - accuracy: 0.9959 - val_loss: 0.0280 - val_accuracy: 0.9929\n",
      "Epoch 29/100\n",
      "468/468 [==============================] - ETA: 0s - loss: 0.0131 - accuracy: 0.9954\n",
      "Epoch 29: val_loss did not improve from 0.01256\n",
      "468/468 [==============================] - 150s 319ms/step - loss: 0.0131 - accuracy: 0.9954 - val_loss: 0.0180 - val_accuracy: 0.9941\n",
      "Epoch 30/100\n",
      "468/468 [==============================] - ETA: 0s - loss: 0.0112 - accuracy: 0.9960\n",
      "Epoch 30: val_loss did not improve from 0.01256\n",
      "468/468 [==============================] - 155s 330ms/step - loss: 0.0112 - accuracy: 0.9960 - val_loss: 0.0151 - val_accuracy: 0.9952\n",
      "Epoch 31/100\n",
      "468/468 [==============================] - ETA: 0s - loss: 0.0114 - accuracy: 0.9961\n",
      "Epoch 31: val_loss did not improve from 0.01256\n",
      "468/468 [==============================] - 166s 355ms/step - loss: 0.0114 - accuracy: 0.9961 - val_loss: 0.0139 - val_accuracy: 0.9956\n",
      "Epoch 32/100\n",
      "468/468 [==============================] - ETA: 0s - loss: 0.0433 - accuracy: 0.9857\n",
      "Epoch 32: val_loss did not improve from 0.01256\n",
      "468/468 [==============================] - 171s 365ms/step - loss: 0.0433 - accuracy: 0.9857 - val_loss: 0.0212 - val_accuracy: 0.9926\n",
      "Epoch 33/100\n",
      "468/468 [==============================] - ETA: 0s - loss: 0.0166 - accuracy: 0.9937\n",
      "Epoch 33: val_loss did not improve from 0.01256\n",
      "468/468 [==============================] - 150s 319ms/step - loss: 0.0166 - accuracy: 0.9937 - val_loss: 0.0173 - val_accuracy: 0.9949\n",
      "Epoch 34/100\n",
      "468/468 [==============================] - ETA: 0s - loss: 0.0133 - accuracy: 0.9955\n",
      "Epoch 34: val_loss did not improve from 0.01256\n",
      "468/468 [==============================] - 153s 326ms/step - loss: 0.0133 - accuracy: 0.9955 - val_loss: 0.0265 - val_accuracy: 0.9903\n",
      "Epoch 35/100\n",
      "468/468 [==============================] - ETA: 0s - loss: 0.0119 - accuracy: 0.9959\n",
      "Epoch 35: val_loss did not improve from 0.01256\n",
      "468/468 [==============================] - 154s 329ms/step - loss: 0.0119 - accuracy: 0.9959 - val_loss: 0.0222 - val_accuracy: 0.9923\n",
      "Epoch 36/100\n",
      "468/468 [==============================] - ETA: 0s - loss: 0.0091 - accuracy: 0.9968\n",
      "Epoch 36: val_loss improved from 0.01256 to 0.01005, saving model to models\\2_max_pooling.h5\n",
      "468/468 [==============================] - 151s 322ms/step - loss: 0.0091 - accuracy: 0.9968 - val_loss: 0.0101 - val_accuracy: 0.9970\n",
      "Epoch 37/100\n",
      "468/468 [==============================] - ETA: 0s - loss: 0.0108 - accuracy: 0.9960\n",
      "Epoch 37: val_loss did not improve from 0.01005\n",
      "468/468 [==============================] - 152s 326ms/step - loss: 0.0108 - accuracy: 0.9960 - val_loss: 0.0178 - val_accuracy: 0.9950\n",
      "Epoch 38/100\n",
      "468/468 [==============================] - ETA: 0s - loss: 0.0097 - accuracy: 0.9966\n",
      "Epoch 38: val_loss did not improve from 0.01005\n",
      "468/468 [==============================] - 150s 321ms/step - loss: 0.0097 - accuracy: 0.9966 - val_loss: 0.0211 - val_accuracy: 0.9938\n",
      "Epoch 39/100\n",
      "468/468 [==============================] - ETA: 0s - loss: 0.0116 - accuracy: 0.9961\n",
      "Epoch 39: val_loss did not improve from 0.01005\n",
      "468/468 [==============================] - 171s 364ms/step - loss: 0.0116 - accuracy: 0.9961 - val_loss: 0.0333 - val_accuracy: 0.9907\n",
      "Epoch 40/100\n",
      "468/468 [==============================] - ETA: 0s - loss: 0.0085 - accuracy: 0.9972\n",
      "Epoch 40: val_loss did not improve from 0.01005\n",
      "468/468 [==============================] - 152s 325ms/step - loss: 0.0085 - accuracy: 0.9972 - val_loss: 0.0229 - val_accuracy: 0.9935\n",
      "Epoch 41/100\n",
      "468/468 [==============================] - ETA: 0s - loss: 0.0124 - accuracy: 0.9959\n",
      "Epoch 41: val_loss did not improve from 0.01005\n",
      "468/468 [==============================] - 154s 329ms/step - loss: 0.0124 - accuracy: 0.9959 - val_loss: 0.0150 - val_accuracy: 0.9947\n",
      "Epoch 42/100\n",
      "468/468 [==============================] - ETA: 0s - loss: 0.0074 - accuracy: 0.9974\n",
      "Epoch 42: val_loss did not improve from 0.01005\n",
      "468/468 [==============================] - 154s 328ms/step - loss: 0.0074 - accuracy: 0.9974 - val_loss: 0.0270 - val_accuracy: 0.9906\n",
      "Epoch 43/100\n",
      "468/468 [==============================] - ETA: 0s - loss: 0.0097 - accuracy: 0.9967\n",
      "Epoch 43: val_loss did not improve from 0.01005\n",
      "468/468 [==============================] - 154s 329ms/step - loss: 0.0097 - accuracy: 0.9967 - val_loss: 0.0162 - val_accuracy: 0.9950\n",
      "Epoch 44/100\n",
      "468/468 [==============================] - ETA: 0s - loss: 0.0111 - accuracy: 0.9961\n",
      "Epoch 44: val_loss did not improve from 0.01005\n",
      "468/468 [==============================] - 159s 338ms/step - loss: 0.0111 - accuracy: 0.9961 - val_loss: 0.0439 - val_accuracy: 0.9900\n",
      "Epoch 45/100\n",
      "468/468 [==============================] - ETA: 0s - loss: 0.0090 - accuracy: 0.9964\n",
      "Epoch 45: val_loss did not improve from 0.01005\n",
      "468/468 [==============================] - 161s 343ms/step - loss: 0.0090 - accuracy: 0.9964 - val_loss: 0.0234 - val_accuracy: 0.9941\n",
      "Epoch 46/100\n",
      "468/468 [==============================] - ETA: 0s - loss: 0.0065 - accuracy: 0.9978\n",
      "Epoch 46: val_loss did not improve from 0.01005\n",
      "468/468 [==============================] - 205s 437ms/step - loss: 0.0065 - accuracy: 0.9978 - val_loss: 0.0137 - val_accuracy: 0.9957\n",
      "Epoch 47/100\n",
      "468/468 [==============================] - ETA: 0s - loss: 0.0079 - accuracy: 0.9973\n",
      "Epoch 47: val_loss did not improve from 0.01005\n",
      "468/468 [==============================] - 170s 362ms/step - loss: 0.0079 - accuracy: 0.9973 - val_loss: 0.0152 - val_accuracy: 0.9954\n",
      "Epoch 48/100\n",
      "468/468 [==============================] - ETA: 0s - loss: 0.0053 - accuracy: 0.9983\n",
      "Epoch 48: val_loss did not improve from 0.01005\n",
      "468/468 [==============================] - 162s 347ms/step - loss: 0.0053 - accuracy: 0.9983 - val_loss: 0.0128 - val_accuracy: 0.9960\n",
      "Epoch 49/100\n",
      "468/468 [==============================] - ETA: 0s - loss: 0.0072 - accuracy: 0.9972\n",
      "Epoch 49: val_loss did not improve from 0.01005\n",
      "468/468 [==============================] - 162s 345ms/step - loss: 0.0072 - accuracy: 0.9972 - val_loss: 0.0200 - val_accuracy: 0.9941\n",
      "Epoch 50/100\n",
      "468/468 [==============================] - ETA: 0s - loss: 0.0130 - accuracy: 0.9960\n",
      "Epoch 50: val_loss improved from 0.01005 to 0.00927, saving model to models\\2_max_pooling.h5\n",
      "468/468 [==============================] - 167s 357ms/step - loss: 0.0130 - accuracy: 0.9960 - val_loss: 0.0093 - val_accuracy: 0.9965\n",
      "Epoch 51/100\n",
      "468/468 [==============================] - ETA: 0s - loss: 0.0050 - accuracy: 0.9983\n",
      "Epoch 51: val_loss did not improve from 0.00927\n",
      "468/468 [==============================] - 167s 356ms/step - loss: 0.0050 - accuracy: 0.9983 - val_loss: 0.0105 - val_accuracy: 0.9965\n",
      "Epoch 52/100\n",
      "468/468 [==============================] - ETA: 0s - loss: 0.0062 - accuracy: 0.9979\n",
      "Epoch 52: val_loss did not improve from 0.00927\n",
      "468/468 [==============================] - 141s 301ms/step - loss: 0.0062 - accuracy: 0.9979 - val_loss: 0.0138 - val_accuracy: 0.9966\n",
      "Epoch 53/100\n",
      "468/468 [==============================] - ETA: 0s - loss: 0.0070 - accuracy: 0.9978\n",
      "Epoch 53: val_loss did not improve from 0.00927\n",
      "468/468 [==============================] - 143s 306ms/step - loss: 0.0070 - accuracy: 0.9978 - val_loss: 0.0160 - val_accuracy: 0.9961\n",
      "Epoch 54/100\n",
      "468/468 [==============================] - ETA: 0s - loss: 0.0091 - accuracy: 0.9967\n",
      "Epoch 54: val_loss did not improve from 0.00927\n",
      "468/468 [==============================] - 140s 298ms/step - loss: 0.0091 - accuracy: 0.9967 - val_loss: 0.0163 - val_accuracy: 0.9952\n",
      "Epoch 55/100\n",
      "468/468 [==============================] - ETA: 0s - loss: 0.0069 - accuracy: 0.9976\n",
      "Epoch 55: val_loss did not improve from 0.00927\n",
      "468/468 [==============================] - 142s 302ms/step - loss: 0.0069 - accuracy: 0.9976 - val_loss: 0.0158 - val_accuracy: 0.9968\n",
      "Epoch 56/100\n",
      "468/468 [==============================] - ETA: 0s - loss: 0.0096 - accuracy: 0.9967\n",
      "Epoch 56: val_loss did not improve from 0.00927\n",
      "468/468 [==============================] - 142s 303ms/step - loss: 0.0096 - accuracy: 0.9967 - val_loss: 0.0178 - val_accuracy: 0.9958\n",
      "Epoch 57/100\n",
      "468/468 [==============================] - ETA: 0s - loss: 0.0054 - accuracy: 0.9981\n",
      "Epoch 57: val_loss did not improve from 0.00927\n",
      "468/468 [==============================] - 152s 324ms/step - loss: 0.0054 - accuracy: 0.9981 - val_loss: 0.0126 - val_accuracy: 0.9969\n",
      "Epoch 58/100\n",
      "468/468 [==============================] - ETA: 0s - loss: 0.0072 - accuracy: 0.9977\n",
      "Epoch 58: val_loss did not improve from 0.00927\n",
      "468/468 [==============================] - 156s 333ms/step - loss: 0.0072 - accuracy: 0.9977 - val_loss: 0.0133 - val_accuracy: 0.9964\n",
      "Epoch 59/100\n",
      "468/468 [==============================] - ETA: 0s - loss: 0.0040 - accuracy: 0.9986\n",
      "Epoch 59: val_loss did not improve from 0.00927\n",
      "468/468 [==============================] - 160s 341ms/step - loss: 0.0040 - accuracy: 0.9986 - val_loss: 0.0258 - val_accuracy: 0.9926\n",
      "Epoch 60/100\n",
      "468/468 [==============================] - ETA: 0s - loss: 0.0071 - accuracy: 0.9977\n",
      "Epoch 60: val_loss did not improve from 0.00927\n",
      "468/468 [==============================] - 162s 345ms/step - loss: 0.0071 - accuracy: 0.9977 - val_loss: 0.0131 - val_accuracy: 0.9962\n",
      "Epoch 61/100\n",
      "468/468 [==============================] - ETA: 0s - loss: 0.0074 - accuracy: 0.9971\n",
      "Epoch 61: val_loss did not improve from 0.00927\n",
      "468/468 [==============================] - 161s 343ms/step - loss: 0.0074 - accuracy: 0.9971 - val_loss: 0.0168 - val_accuracy: 0.9954\n",
      "Epoch 62/100\n",
      "468/468 [==============================] - ETA: 0s - loss: 0.0129 - accuracy: 0.9964\n",
      "Epoch 62: val_loss did not improve from 0.00927\n",
      "468/468 [==============================] - 157s 335ms/step - loss: 0.0129 - accuracy: 0.9964 - val_loss: 0.0238 - val_accuracy: 0.9941\n",
      "Epoch 63/100\n",
      "468/468 [==============================] - ETA: 0s - loss: 0.0036 - accuracy: 0.9989\n",
      "Epoch 63: val_loss did not improve from 0.00927\n",
      "468/468 [==============================] - 149s 318ms/step - loss: 0.0036 - accuracy: 0.9989 - val_loss: 0.0468 - val_accuracy: 0.9886\n",
      "Epoch 64/100\n",
      "468/468 [==============================] - ETA: 0s - loss: 0.0088 - accuracy: 0.9971\n",
      "Epoch 64: val_loss did not improve from 0.00927\n",
      "468/468 [==============================] - 134s 287ms/step - loss: 0.0088 - accuracy: 0.9971 - val_loss: 0.0110 - val_accuracy: 0.9965\n",
      "Epoch 65/100\n",
      "468/468 [==============================] - ETA: 0s - loss: 0.0031 - accuracy: 0.9990\n",
      "Epoch 65: val_loss did not improve from 0.00927\n",
      "468/468 [==============================] - 153s 327ms/step - loss: 0.0031 - accuracy: 0.9990 - val_loss: 0.0143 - val_accuracy: 0.9966\n",
      "Epoch 66/100\n",
      "468/468 [==============================] - ETA: 0s - loss: 4.7927e-04 - accuracy: 0.9999\n",
      "Epoch 66: val_loss did not improve from 0.00927\n",
      "468/468 [==============================] - 142s 302ms/step - loss: 4.7927e-04 - accuracy: 0.9999 - val_loss: 0.0100 - val_accuracy: 0.9978\n",
      "Epoch 67/100\n",
      "468/468 [==============================] - ETA: 0s - loss: 5.7901e-05 - accuracy: 1.0000\n",
      "Epoch 67: val_loss did not improve from 0.00927\n",
      "468/468 [==============================] - 149s 318ms/step - loss: 5.7901e-05 - accuracy: 1.0000 - val_loss: 0.0103 - val_accuracy: 0.9978\n",
      "Epoch 68/100\n",
      "468/468 [==============================] - ETA: 0s - loss: 3.0028e-05 - accuracy: 1.0000\n",
      "Epoch 68: val_loss did not improve from 0.00927\n",
      "468/468 [==============================] - 144s 307ms/step - loss: 3.0028e-05 - accuracy: 1.0000 - val_loss: 0.0118 - val_accuracy: 0.9974\n",
      "Epoch 69/100\n",
      "468/468 [==============================] - ETA: 0s - loss: 1.9821e-05 - accuracy: 1.0000\n",
      "Epoch 69: val_loss did not improve from 0.00927\n",
      "468/468 [==============================] - 149s 318ms/step - loss: 1.9821e-05 - accuracy: 1.0000 - val_loss: 0.0112 - val_accuracy: 0.9977\n",
      "Epoch 70/100\n",
      "468/468 [==============================] - ETA: 0s - loss: 1.3435e-05 - accuracy: 1.0000\n",
      "Epoch 70: val_loss did not improve from 0.00927\n",
      "468/468 [==============================] - 158s 336ms/step - loss: 1.3435e-05 - accuracy: 1.0000 - val_loss: 0.0121 - val_accuracy: 0.9976\n",
      "Epoch 71/100\n",
      "468/468 [==============================] - ETA: 0s - loss: 9.9153e-06 - accuracy: 1.0000\n",
      "Epoch 71: val_loss did not improve from 0.00927\n",
      "468/468 [==============================] - 161s 344ms/step - loss: 9.9153e-06 - accuracy: 1.0000 - val_loss: 0.0129 - val_accuracy: 0.9977\n",
      "Epoch 72/100\n",
      "468/468 [==============================] - ETA: 0s - loss: 7.5914e-06 - accuracy: 1.0000\n",
      "Epoch 72: val_loss did not improve from 0.00927\n",
      "468/468 [==============================] - 157s 334ms/step - loss: 7.5914e-06 - accuracy: 1.0000 - val_loss: 0.0135 - val_accuracy: 0.9974\n",
      "Epoch 73/100\n",
      "468/468 [==============================] - ETA: 0s - loss: 5.6710e-06 - accuracy: 1.0000\n",
      "Epoch 73: val_loss did not improve from 0.00927\n",
      "468/468 [==============================] - 154s 329ms/step - loss: 5.6710e-06 - accuracy: 1.0000 - val_loss: 0.0133 - val_accuracy: 0.9976\n",
      "Epoch 74/100\n",
      "468/468 [==============================] - ETA: 0s - loss: 4.3048e-06 - accuracy: 1.0000\n",
      "Epoch 74: val_loss did not improve from 0.00927\n",
      "468/468 [==============================] - 138s 295ms/step - loss: 4.3048e-06 - accuracy: 1.0000 - val_loss: 0.0140 - val_accuracy: 0.9976\n",
      "Epoch 75/100\n",
      "468/468 [==============================] - ETA: 0s - loss: 3.4075e-06 - accuracy: 1.0000\n",
      "Epoch 75: val_loss did not improve from 0.00927\n",
      "468/468 [==============================] - 136s 290ms/step - loss: 3.4075e-06 - accuracy: 1.0000 - val_loss: 0.0140 - val_accuracy: 0.9974\n",
      "Epoch 76/100\n",
      "468/468 [==============================] - ETA: 0s - loss: 2.5828e-06 - accuracy: 1.0000\n",
      "Epoch 76: val_loss did not improve from 0.00927\n",
      "468/468 [==============================] - 136s 290ms/step - loss: 2.5828e-06 - accuracy: 1.0000 - val_loss: 0.0142 - val_accuracy: 0.9977\n",
      "Epoch 77/100\n",
      "468/468 [==============================] - ETA: 0s - loss: 2.0050e-06 - accuracy: 1.0000\n",
      "Epoch 77: val_loss did not improve from 0.00927\n",
      "468/468 [==============================] - 136s 291ms/step - loss: 2.0050e-06 - accuracy: 1.0000 - val_loss: 0.0144 - val_accuracy: 0.9977\n",
      "Epoch 78/100\n",
      "468/468 [==============================] - ETA: 0s - loss: 1.5470e-06 - accuracy: 1.0000\n",
      "Epoch 78: val_loss did not improve from 0.00927\n",
      "468/468 [==============================] - 159s 339ms/step - loss: 1.5470e-06 - accuracy: 1.0000 - val_loss: 0.0154 - val_accuracy: 0.9976\n",
      "Epoch 79/100\n",
      "468/468 [==============================] - ETA: 0s - loss: 1.1847e-06 - accuracy: 1.0000\n",
      "Epoch 79: val_loss did not improve from 0.00927\n",
      "468/468 [==============================] - 147s 314ms/step - loss: 1.1847e-06 - accuracy: 1.0000 - val_loss: 0.0156 - val_accuracy: 0.9977\n",
      "Epoch 80/100\n",
      "468/468 [==============================] - ETA: 0s - loss: 9.1237e-07 - accuracy: 1.0000\n",
      "Epoch 80: val_loss did not improve from 0.00927\n",
      "468/468 [==============================] - 147s 313ms/step - loss: 9.1237e-07 - accuracy: 1.0000 - val_loss: 0.0162 - val_accuracy: 0.9974\n",
      "Epoch 81/100\n",
      "468/468 [==============================] - ETA: 0s - loss: 7.3078e-07 - accuracy: 1.0000\n",
      "Epoch 81: val_loss did not improve from 0.00927\n",
      "468/468 [==============================] - 151s 322ms/step - loss: 7.3078e-07 - accuracy: 1.0000 - val_loss: 0.0168 - val_accuracy: 0.9976\n",
      "Epoch 82/100\n",
      "468/468 [==============================] - ETA: 0s - loss: 5.2852e-07 - accuracy: 1.0000\n",
      "Epoch 82: val_loss did not improve from 0.00927\n",
      "468/468 [==============================] - 158s 337ms/step - loss: 5.2852e-07 - accuracy: 1.0000 - val_loss: 0.0167 - val_accuracy: 0.9977\n",
      "Epoch 83/100\n",
      "468/468 [==============================] - ETA: 0s - loss: 4.0641e-07 - accuracy: 1.0000\n",
      "Epoch 83: val_loss did not improve from 0.00927\n",
      "468/468 [==============================] - 128s 272ms/step - loss: 4.0641e-07 - accuracy: 1.0000 - val_loss: 0.0173 - val_accuracy: 0.9976\n",
      "Epoch 84/100\n",
      "468/468 [==============================] - ETA: 0s - loss: 3.1532e-07 - accuracy: 1.0000\n",
      "Epoch 84: val_loss did not improve from 0.00927\n",
      "468/468 [==============================] - 133s 285ms/step - loss: 3.1532e-07 - accuracy: 1.0000 - val_loss: 0.0175 - val_accuracy: 0.9977\n",
      "Epoch 85/100\n",
      "468/468 [==============================] - ETA: 0s - loss: 2.3772e-07 - accuracy: 1.0000\n",
      "Epoch 85: val_loss did not improve from 0.00927\n",
      "468/468 [==============================] - 140s 300ms/step - loss: 2.3772e-07 - accuracy: 1.0000 - val_loss: 0.0178 - val_accuracy: 0.9977\n",
      "Epoch 86/100\n",
      "468/468 [==============================] - ETA: 0s - loss: 1.8176e-07 - accuracy: 1.0000\n",
      "Epoch 86: val_loss did not improve from 0.00927\n",
      "468/468 [==============================] - 146s 312ms/step - loss: 1.8176e-07 - accuracy: 1.0000 - val_loss: 0.0180 - val_accuracy: 0.9974\n",
      "Epoch 87/100\n",
      "468/468 [==============================] - ETA: 0s - loss: 1.4106e-07 - accuracy: 1.0000\n",
      "Epoch 87: val_loss did not improve from 0.00927\n",
      "468/468 [==============================] - 147s 313ms/step - loss: 1.4106e-07 - accuracy: 1.0000 - val_loss: 0.0184 - val_accuracy: 0.9976\n",
      "Epoch 88/100\n",
      "468/468 [==============================] - ETA: 0s - loss: 1.0528e-07 - accuracy: 1.0000\n",
      "Epoch 88: val_loss did not improve from 0.00927\n",
      "468/468 [==============================] - 145s 309ms/step - loss: 1.0528e-07 - accuracy: 1.0000 - val_loss: 0.0184 - val_accuracy: 0.9974\n",
      "Epoch 89/100\n",
      "468/468 [==============================] - ETA: 0s - loss: 8.4359e-08 - accuracy: 1.0000\n",
      "Epoch 89: val_loss did not improve from 0.00927\n",
      "468/468 [==============================] - 146s 311ms/step - loss: 8.4359e-08 - accuracy: 1.0000 - val_loss: 0.0194 - val_accuracy: 0.9977\n",
      "Epoch 90/100\n",
      "468/468 [==============================] - ETA: 0s - loss: 6.3640e-08 - accuracy: 1.0000\n",
      "Epoch 90: val_loss did not improve from 0.00927\n",
      "468/468 [==============================] - 154s 329ms/step - loss: 6.3640e-08 - accuracy: 1.0000 - val_loss: 0.0187 - val_accuracy: 0.9976\n",
      "Epoch 91/100\n",
      "468/468 [==============================] - ETA: 0s - loss: 5.1119e-08 - accuracy: 1.0000\n",
      "Epoch 91: val_loss did not improve from 0.00927\n",
      "468/468 [==============================] - 146s 311ms/step - loss: 5.1119e-08 - accuracy: 1.0000 - val_loss: 0.0197 - val_accuracy: 0.9974\n",
      "Epoch 92/100\n",
      "468/468 [==============================] - ETA: 0s - loss: 4.0031e-08 - accuracy: 1.0000\n",
      "Epoch 92: val_loss did not improve from 0.00927\n",
      "468/468 [==============================] - 148s 316ms/step - loss: 4.0031e-08 - accuracy: 1.0000 - val_loss: 0.0196 - val_accuracy: 0.9976\n",
      "Epoch 93/100\n",
      "468/468 [==============================] - ETA: 0s - loss: 3.1233e-08 - accuracy: 1.0000\n",
      "Epoch 93: val_loss did not improve from 0.00927\n",
      "468/468 [==============================] - 159s 339ms/step - loss: 3.1233e-08 - accuracy: 1.0000 - val_loss: 0.0194 - val_accuracy: 0.9977\n",
      "Epoch 94/100\n",
      "468/468 [==============================] - ETA: 0s - loss: 2.2845e-08 - accuracy: 1.0000\n",
      "Epoch 94: val_loss did not improve from 0.00927\n",
      "468/468 [==============================] - 160s 341ms/step - loss: 2.2845e-08 - accuracy: 1.0000 - val_loss: 0.0186 - val_accuracy: 0.9976\n",
      "Epoch 95/100\n",
      "468/468 [==============================] - ETA: 0s - loss: 1.7942e-08 - accuracy: 1.0000\n",
      "Epoch 95: val_loss did not improve from 0.00927\n",
      "468/468 [==============================] - 160s 341ms/step - loss: 1.7942e-08 - accuracy: 1.0000 - val_loss: 0.0208 - val_accuracy: 0.9976\n",
      "Epoch 96/100\n",
      "468/468 [==============================] - ETA: 0s - loss: 1.3876e-08 - accuracy: 1.0000\n",
      "Epoch 96: val_loss did not improve from 0.00927\n",
      "468/468 [==============================] - 155s 332ms/step - loss: 1.3876e-08 - accuracy: 1.0000 - val_loss: 0.0208 - val_accuracy: 0.9973\n",
      "Epoch 97/100\n",
      "468/468 [==============================] - ETA: 0s - loss: 1.0778e-08 - accuracy: 1.0000\n",
      "Epoch 97: val_loss did not improve from 0.00927\n",
      "468/468 [==============================] - 144s 306ms/step - loss: 1.0778e-08 - accuracy: 1.0000 - val_loss: 0.0214 - val_accuracy: 0.9974\n",
      "Epoch 98/100\n",
      "468/468 [==============================] - ETA: 0s - loss: 8.5570e-09 - accuracy: 1.0000\n",
      "Epoch 98: val_loss did not improve from 0.00927\n",
      "468/468 [==============================] - 150s 320ms/step - loss: 8.5570e-09 - accuracy: 1.0000 - val_loss: 0.0217 - val_accuracy: 0.9974\n",
      "Epoch 99/100\n",
      "468/468 [==============================] - ETA: 0s - loss: 7.0406e-09 - accuracy: 1.0000\n",
      "Epoch 99: val_loss did not improve from 0.00927\n",
      "468/468 [==============================] - 130s 278ms/step - loss: 7.0406e-09 - accuracy: 1.0000 - val_loss: 0.0220 - val_accuracy: 0.9974\n",
      "Epoch 100/100\n",
      "468/468 [==============================] - ETA: 0s - loss: 5.3452e-09 - accuracy: 1.0000\n",
      "Epoch 100: val_loss did not improve from 0.00927\n",
      "468/468 [==============================] - 123s 263ms/step - loss: 5.3452e-09 - accuracy: 1.0000 - val_loss: 0.0222 - val_accuracy: 0.9974\n"
     ]
    },
    {
     "data": {
      "text/plain": "<keras.callbacks.History at 0x28c69ade280>"
     },
     "execution_count": 13,
     "metadata": {},
     "output_type": "execute_result"
    }
   ],
   "source": [
    "model.fit(train_generator, epochs=100, batch_size=128, validation_data=validate_generator, callbacks=callback)"
   ],
   "metadata": {
    "collapsed": false,
    "pycharm": {
     "name": "#%%\n"
    }
   }
  },
  {
   "cell_type": "code",
   "execution_count": 14,
   "outputs": [
    {
     "name": "stdout",
     "output_type": "stream",
     "text": [
      "58/58 [==============================] - 15s 249ms/step - loss: 0.0187 - accuracy: 0.9976\n"
     ]
    },
    {
     "data": {
      "text/plain": "[0.018660806119441986, 0.9975754022598267]"
     },
     "execution_count": 14,
     "metadata": {},
     "output_type": "execute_result"
    }
   ],
   "source": [
    "model.evaluate(test_generator)"
   ],
   "metadata": {
    "collapsed": false,
    "pycharm": {
     "name": "#%%\n"
    }
   }
  },
  {
   "cell_type": "code",
   "execution_count": null,
   "outputs": [],
   "source": [],
   "metadata": {
    "collapsed": false,
    "pycharm": {
     "name": "#%%\n"
    }
   }
  }
 ],
 "metadata": {
  "kernelspec": {
   "display_name": "Python 3",
   "language": "python",
   "name": "python3"
  },
  "language_info": {
   "codemirror_mode": {
    "name": "ipython",
    "version": 2
   },
   "file_extension": ".py",
   "mimetype": "text/x-python",
   "name": "python",
   "nbconvert_exporter": "python",
   "pygments_lexer": "ipython2",
   "version": "2.7.6"
  }
 },
 "nbformat": 4,
 "nbformat_minor": 0
}