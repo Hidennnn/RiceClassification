{
 "cells": [
  {
   "cell_type": "code",
   "execution_count": 1,
   "metadata": {
    "collapsed": true,
    "ExecuteTime": {
     "end_time": "2023-07-09T18:01:40.305688Z",
     "start_time": "2023-07-09T18:01:40.301251Z"
    }
   },
   "outputs": [],
   "source": [
    "import os"
   ]
  },
  {
   "cell_type": "code",
   "execution_count": null,
   "outputs": [],
   "source": [
    "os.makedirs(r'data/train')\n",
    "os.makedirs(r'data/test')\n",
    "os.makedirs(r'data/validation')\n",
    "\n",
    "for folder in os.listdir('data'):\n",
    "    if folder in ['train', 'test', 'validation']:\n",
    "        continue\n",
    "\n",
    "    os.makedirs(f'data/train/{folder}')\n",
    "    os.makedirs(f'data/test/{folder}')\n",
    "    os.makedirs(f'data/validation/{folder}')"
   ],
   "metadata": {
    "collapsed": false
   }
  },
  {
   "cell_type": "code",
   "execution_count": 11,
   "outputs": [],
   "source": [
    "import random\n",
    "\n",
    "random.seed(1234)\n",
    "for folder in os.listdir('data'):\n",
    "    if folder in ['test', 'train', 'validation']:\n",
    "        continue\n",
    "\n",
    "    files = os.listdir(f'data/{folder}')\n",
    "    random.shuffle(files)\n",
    "    number_of_files = len(files)\n",
    "\n",
    "    for file in files[:int(0.8*number_of_files)]:\n",
    "        os.rename(f'data/{folder}/{file}', f'data/train/{folder}/{file}')\n",
    "    for file in files[int(0.8*number_of_files):int(0.9*number_of_files)]:\n",
    "        os.rename(f'data/{folder}/{file}', f'data/validation/{folder}/{file}')\n",
    "    for file in files[int(0.9*number_of_files):]:\n",
    "        os.rename(f'data/{folder}/{file}', f'data/test/{folder}/{file}')"
   ],
   "metadata": {
    "collapsed": false,
    "ExecuteTime": {
     "end_time": "2023-07-09T17:59:12.342056Z",
     "start_time": "2023-07-09T17:59:06.999191Z"
    }
   }
  },
  {
   "cell_type": "code",
   "execution_count": 6,
   "outputs": [],
   "source": [
    "for folder in os.listdir('data'):\n",
    "    if folder in ['test', 'train', 'validation']:\n",
    "        continue\n",
    "    if folder[0] == '.':\n",
    "        continue\n",
    "\n",
    "    os.rmdir(f'data/{folder}')"
   ],
   "metadata": {
    "collapsed": false,
    "ExecuteTime": {
     "end_time": "2023-07-09T18:04:57.763290Z",
     "start_time": "2023-07-09T18:04:57.749842Z"
    }
   }
  },
  {
   "cell_type": "code",
   "execution_count": null,
   "outputs": [],
   "source": [],
   "metadata": {
    "collapsed": false
   }
  }
 ],
 "metadata": {
  "kernelspec": {
   "display_name": "Python 3",
   "language": "python",
   "name": "python3"
  },
  "language_info": {
   "codemirror_mode": {
    "name": "ipython",
    "version": 2
   },
   "file_extension": ".py",
   "mimetype": "text/x-python",
   "name": "python",
   "nbconvert_exporter": "python",
   "pygments_lexer": "ipython2",
   "version": "2.7.6"
  }
 },
 "nbformat": 4,
 "nbformat_minor": 0
}
