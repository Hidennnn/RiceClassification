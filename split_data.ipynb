{
 "cells": [
  {
   "cell_type": "code",
   "execution_count": 1,
   "metadata": {
    "collapsed": true,
    "ExecuteTime": {
     "end_time": "2023-07-09T18:01:40.305688Z",
     "start_time": "2023-07-09T18:01:40.301251Z"
    },
    "pycharm": {
     "name": "#%%\n"
    }
   },
   "outputs": [],
   "source": [
    "import os\n",
    "import random"
   ]
  },
  {
   "cell_type": "code",
   "execution_count": null,
   "outputs": [],
   "source": [
    "os.makedirs(r'images/train')\n",
    "os.makedirs(r'images/test')\n",
    "os.makedirs(r'images/validation')\n",
    "\n",
    "for folder in os.listdir('images'):\n",
    "    if folder in ['train', 'test', 'validation']:\n",
    "        continue\n",
    "\n",
    "    os.makedirs(f'images/train/{folder}')\n",
    "    os.makedirs(f'images/test/{folder}')\n",
    "    os.makedirs(f'images/validation/{folder}')"
   ],
   "metadata": {
    "collapsed": false,
    "pycharm": {
     "name": "#%%\n"
    }
   }
  },
  {
   "cell_type": "code",
   "execution_count": 11,
   "outputs": [],
   "source": [
    "random.seed(1234)\n",
    "for folder in os.listdir('images'):\n",
    "    if folder in ['test', 'train', 'validation']:\n",
    "        continue\n",
    "\n",
    "    files = os.listdir(f'images/{folder}')\n",
    "    random.shuffle(files)\n",
    "    number_of_files = len(files)\n",
    "\n",
    "    for file in files[:int(0.8*number_of_files)]:\n",
    "        os.rename(f'images/{folder}/{file}', f'images/train/{folder}/{file}')\n",
    "    for file in files[int(0.8*number_of_files):int(0.9*number_of_files)]:\n",
    "        os.rename(f'images/{folder}/{file}', f'images/validation/{folder}/{file}')\n",
    "    for file in files[int(0.9*number_of_files):]:\n",
    "        os.rename(f'images/{folder}/{file}', f'images/test/{folder}/{file}')"
   ],
   "metadata": {
    "collapsed": false,
    "ExecuteTime": {
     "end_time": "2023-07-09T17:59:12.342056Z",
     "start_time": "2023-07-09T17:59:06.999191Z"
    },
    "pycharm": {
     "name": "#%%\n"
    }
   }
  },
  {
   "cell_type": "code",
   "execution_count": 6,
   "outputs": [],
   "source": [
    "for folder in os.listdir('images'):\n",
    "    if folder in ['test', 'train', 'validation']:\n",
    "        continue\n",
    "\n",
    "    os.rmdir(f'images/{folder}')"
   ],
   "metadata": {
    "collapsed": false,
    "ExecuteTime": {
     "end_time": "2023-07-09T18:04:57.763290Z",
     "start_time": "2023-07-09T18:04:57.749842Z"
    },
    "pycharm": {
     "name": "#%%\n"
    }
   }
  },
  {
   "cell_type": "code",
   "execution_count": null,
   "outputs": [],
   "source": [],
   "metadata": {
    "collapsed": false,
    "pycharm": {
     "name": "#%%\n"
    }
   }
  }
 ],
 "metadata": {
  "kernelspec": {
   "display_name": "Python 3",
   "language": "python",
   "name": "python3"
  },
  "language_info": {
   "codemirror_mode": {
    "name": "ipython",
    "version": 2
   },
   "file_extension": ".py",
   "mimetype": "text/x-python",
   "name": "python",
   "nbconvert_exporter": "python",
   "pygments_lexer": "ipython2",
   "version": "2.7.6"
  }
 },
 "nbformat": 4,
 "nbformat_minor": 0
}